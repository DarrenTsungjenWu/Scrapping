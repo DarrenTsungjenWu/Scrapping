{
 "cells": [
  {
   "cell_type": "code",
   "execution_count": 1,
   "metadata": {},
   "outputs": [],
   "source": [
    "import selenium\n",
    "from selenium import webdriver\n",
    "import time\n",
    "from selenium.webdriver.common.by import By\n",
    "from selenium.webdriver.support.ui import WebDriverWait\n",
    "from selenium.webdriver.support import expected_conditions as EC"
   ]
  },
  {
   "cell_type": "code",
   "execution_count": 2,
   "metadata": {},
   "outputs": [
    {
     "name": "stdout",
     "output_type": "stream",
     "text": [
      "東凌的閒談天地\n"
     ]
    }
   ],
   "source": [
    "#Get the title of the whole website.\n",
    "path = \"C:\\Program Files (x86)\\chromedriver.exe\" #path for chrome driver exe file\n",
    "driver = webdriver.Chrome(path)\n",
    "driver.get(\"http://wutsungjen0619.blogspot.com/\") #http://wutsungjen0619.blogspot.com/2019/08/themiracleof100.html\n",
    "\n",
    "#Check the title of the article in the given website.\n",
    "print(driver.title)"
   ]
  },
  {
   "cell_type": "code",
   "execution_count": 8,
   "metadata": {},
   "outputs": [
    {
     "data": {
      "text/plain": [
       "'\\n#Approach 2: Search element using located by \"CLASS_NAME\" (= \"gsc-input\") as parameter.\\ntry:\\n    search = WebDriverWait(driver, 10).until(\\n        EC.presence_of_element_located((By.CLASS_NAME, \"gsc-input\"))\\n    )\\n    search.send_keys(\"hi\")\\n    search.send_keys(Keys.RETURN)\\n    \\nexcept:\\n    #driver.quit()\\n\\n#Approach 3: Short version. \\n#After trials, it can only work for \"name\" used although the element has been labelled with class name and name.\\ntime.sleep(10)\\nsearch = driver.find_element_by_name(\"q\")\\nsearch.send_keys(\"hi\")\\nsearch.send_keys(Keys.RETURN)\\n'"
      ]
     },
     "execution_count": 8,
     "metadata": {},
     "output_type": "execute_result"
    }
   ],
   "source": [
    "# Use driver to search some key words (keys)\n",
    "path = \"C:\\Program Files (x86)\\chromedriver.exe\"\n",
    "driver = webdriver.Chrome(path)\n",
    "driver.get(\"http://wutsungjen0619.blogspot.com/\") #http://wutsungjen0619.blogspot.com/2019/08/themiracleof100.html\n",
    "\n",
    "#The code for the element: \n",
    "# <input autocomplete=\"off\" class=\"gsc-input\" name=\"q\" size=\"10\" title=\"search\" type=\"text\" value=\"\">\n",
    "\n",
    "#Search element using located by \"NAME\" (= \"q\") as parameter.\n",
    "#Approach 1\n",
    "try:\n",
    "    search = WebDriverWait(driver, 10).until(\n",
    "        EC.presence_of_element_located((By.NAME, \"q\"))\n",
    "    )\n",
    "    search.send_keys(\"hi\")\n",
    "    search.send_keys(Keys.RETURN)\n",
    "    \n",
    "except:\n",
    "    driver.quit()\n",
    "\n",
    "\n",
    "'''\n",
    "#Approach 2: Search element using located by \"CLASS_NAME\" (= \"gsc-input\") as parameter.\n",
    "try:\n",
    "    search = WebDriverWait(driver, 10).until(\n",
    "        EC.presence_of_element_located((By.CLASS_NAME, \"gsc-input\"))\n",
    "    )\n",
    "    search.send_keys(\"hi\")\n",
    "    search.send_keys(Keys.RETURN)\n",
    "    \n",
    "except:\n",
    "    driver.quit()\n",
    "'''\n",
    "\n",
    "'''\n",
    "#Approach 3: Short version. \n",
    "#After trials, it can only work for \"name\" used although the element has been labelled with class name and name.\n",
    "time.sleep(10)\n",
    "search = driver.find_element_by_name(\"q\")\n",
    "search.send_keys(\"hi\")\n",
    "search.send_keys(Keys.RETURN)\n",
    "'''"
   ]
  },
  {
   "cell_type": "code",
   "execution_count": 7,
   "metadata": {},
   "outputs": [],
   "source": [
    "# Click the link texts\n",
    "path = \"C:\\Program Files (x86)\\chromedriver.exe\"\n",
    "driver = webdriver.Chrome(path)\n",
    "driver.get(\"http://wutsungjen0619.blogspot.com/\") #http://wutsungjen0619.blogspot.com/2019/08/themiracleof100.html\n",
    "\n",
    "link = driver.find_element_by_link_text(\"改變的一年：2019年回顧\")\n",
    "link.click()"
   ]
  },
  {
   "cell_type": "code",
   "execution_count": 10,
   "metadata": {},
   "outputs": [],
   "source": [
    "# Click the link into the link text (connecting to the article, 改變的一年：2019年回顧) and then\n",
    "# click the link text (tag, 政治) \n",
    "# Using multiple element search in try\n",
    "\n",
    "path = \"C:\\Program Files (x86)\\chromedriver.exe\"\n",
    "driver = webdriver.Chrome(path)\n",
    "driver.get(\"http://wutsungjen0619.blogspot.com/\") #http://wutsungjen0619.blogspot.com/2019/08/themiracleof100.html\n",
    "\n",
    "try:\n",
    "    link_title = WebDriverWait(driver, 10).until(\n",
    "        EC.presence_of_element_located((By.LINK_TEXT, \"改變的一年：2019年回顧\"))\n",
    "    )\n",
    "    link_title.click()\n",
    "    \n",
    "    tags_political = WebDriverWait(driver, 10).until(\n",
    "        EC.presence_of_element_located((By.LINK_TEXT, \"政治\"))\n",
    "    )\n",
    "    tags_political.click()\n",
    "    \n",
    "except:\n",
    "    driver.quit()"
   ]
  }
 ],
 "metadata": {
  "kernelspec": {
   "display_name": "Python 3",
   "language": "python",
   "name": "python3"
  },
  "language_info": {
   "codemirror_mode": {
    "name": "ipython",
    "version": 3
   },
   "file_extension": ".py",
   "mimetype": "text/x-python",
   "name": "python",
   "nbconvert_exporter": "python",
   "pygments_lexer": "ipython3",
   "version": "3.7.6"
  }
 },
 "nbformat": 4,
 "nbformat_minor": 4
}
